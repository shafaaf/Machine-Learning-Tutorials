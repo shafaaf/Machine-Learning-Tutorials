{
 "cells": [
  {
   "cell_type": "markdown",
   "metadata": {},
   "source": [
    "# Single variable linear regression"
   ]
  },
  {
   "cell_type": "code",
   "execution_count": 1,
   "metadata": {},
   "outputs": [],
   "source": [
    "import numpy as np\n",
    "from numpy import *\n",
    "import matplotlib.pyplot as plt\n",
    "import pandas as pd"
   ]
  },
  {
   "cell_type": "code",
   "execution_count": 3,
   "metadata": {},
   "outputs": [
    {
     "name": "stdout",
     "output_type": "stream",
     "text": [
      "        0        1\n",
      "0  6.1101  17.5920\n",
      "1  5.5277   9.1302\n",
      "2  8.5186  13.6620\n",
      "3  7.0032  11.8540\n",
      "4  5.8598   6.8233\n",
      "               0          1\n",
      "count  97.000000  97.000000\n",
      "mean    8.159800   5.839135\n",
      "std     3.869884   5.510262\n",
      "min     5.026900  -2.680700\n",
      "25%     5.707700   1.986900\n",
      "50%     6.589400   4.562300\n",
      "75%     8.578100   7.046700\n",
      "max    22.203000  24.147000\n"
     ]
    }
   ],
   "source": [
    "## Reading in training data\n",
    "data = pd.read_csv('ex1data1.txt', header=None)\n",
    "print(data.head())\n",
    "print(data.describe())"
   ]
  },
  {
   "cell_type": "markdown",
   "metadata": {},
   "source": [
    "## Plotting training data"
   ]
  },
  {
   "cell_type": "code",
   "execution_count": 4,
   "metadata": {},
   "outputs": [
    {
     "data": {
      "image/png": "[encoded data removed]",
      "text/plain": [
       "<Figure size 432x288 with 1 Axes>"
      ]
     },
     "metadata": {
      "needs_background": "light"
     },
     "output_type": "display_data"
    }
   ],
   "source": [
    "plt.figure(1)\n",
    "plt.scatter(data[0], data[1])\n",
    "plt.xticks(np.arange(5, 30, step=5))\n",
    "plt.yticks(np.arange(-5, 30, step=5))\n",
    "plt.xlabel('Population of City (10,000s)')\n",
    "plt.ylabel('Profit ($10,000)')\n",
    "plt.title('Profit Vs Population')\n",
    "plt.show()"
   ]
  },
  {
   "cell_type": "markdown",
   "metadata": {},
   "source": [
    "## Setting up input variables"
   ]
  },
  {
   "cell_type": "code",
   "execution_count": null,
   "metadata": {
    "scrolled": true
   },
   "outputs": [],
   "source": [
    "data_n = data.values\n",
    "print(data_n)"
   ]
  },
  {
   "cell_type": "code",
   "execution_count": null,
   "metadata": {},
   "outputs": [],
   "source": [
    "# Getting number of training examples (m)\n",
    "m = data_n.shape[0]\n",
    "print(m)"
   ]
  },
  {
   "cell_type": "code",
   "execution_count": null,
   "metadata": {
    "scrolled": true
   },
   "outputs": [],
   "source": [
    "x = np.append(np.ones((m, 1)), data_n[:, 0].reshape(m, 1), axis=1)\n",
    "print(x)"
   ]
  },
  {
   "cell_type": "code",
   "execution_count": null,
   "metadata": {
    "scrolled": true
   },
   "outputs": [],
   "source": [
    "y = data_n[:, 1].reshape(m, 1)\n",
    "print(y)"
   ]
  },
  {
   "cell_type": "code",
   "execution_count": null,
   "metadata": {},
   "outputs": [],
   "source": [
    "theta = np.zeros((2, 1))\n",
    "print(theta)"
   ]
  },
  {
   "cell_type": "markdown",
   "metadata": {},
   "source": [
    "## Cost function and gradient descent"
   ]
  },
  {
   "cell_type": "code",
   "execution_count": null,
   "metadata": {},
   "outputs": [],
   "source": [
    "def computeCost ( x, y, theta, m ):\n",
    "    predicted_y = x.dot(theta)\n",
    "    squared_error = (predicted_y - y) ** 2\n",
    "    mean_squared_error = (1 / (2 * m)) * np.sum(squared_error)\n",
    "    return mean_squared_error"
   ]
  },
  {
   "cell_type": "code",
   "execution_count": null,
   "metadata": {
    "scrolled": true
   },
   "outputs": [],
   "source": [
    "initial_cost = computeCost(x, y, theta, m)\n",
    "print(\"initial_cost is: {}\".format(initial_cost))"
   ]
  },
  {
   "cell_type": "code",
   "execution_count": null,
   "metadata": {},
   "outputs": [],
   "source": [
    "def gradientDescent ( x, y, theta, m, alpha, num_iters ):\n",
    "    print(\"\\nPerforming gradient descent...\")\n",
    "    J_cost_history = []\n",
    "    for i in range(num_iters):\n",
    "        predictions = x.dot(theta)\n",
    "        temp = np.dot(x.transpose(), (predictions - y))\n",
    "        theta = theta - (alpha / m) * temp\n",
    "        J_cost_history.append(computeCost(x, y, theta, m))\n",
    "    return theta, J_cost_history\n"
   ]
  },
  {
   "cell_type": "code",
   "execution_count": null,
   "metadata": {},
   "outputs": [],
   "source": [
    "alpha = 0.01\n",
    "num_iterations = 1500\n",
    "final_theta, J_cost_history = gradientDescent(x, y, theta, m, alpha, num_iterations)\n",
    "print(\"\\nfinal_theta is:\\n\", final_theta)\n",
    "print(\"Linear equation would be: {} theta_0 + {} theta_1 \".format(\n",
    "    final_theta[0][0],\n",
    "    final_theta[1][0],\n",
    "))"
   ]
  },
  {
   "cell_type": "markdown",
   "metadata": {},
   "source": [
    "## Cost function plot"
   ]
  },
  {
   "cell_type": "code",
   "execution_count": null,
   "metadata": {},
   "outputs": [],
   "source": [
    "plt.figure(2)\n",
    "plt.plot(J_cost_history)\n",
    "plt.xlabel(\"Iterations\")\n",
    "plt.ylabel(\"$J(\\Theta)$\")\n",
    "plt.title(\"Cost function using Gradient Descent\")\n",
    "plt.show()"
   ]
  },
  {
   "cell_type": "code",
   "execution_count": null,
   "metadata": {
    "scrolled": true
   },
   "outputs": [],
   "source": [
    "plt.scatter(data[0],data[1])\n",
    "plt.xticks(np.arange(5,30,step=5))\n",
    "plt.yticks(np.arange(-5,30,step=5))\n",
    "plt.xlabel(\"Population of City (10,000s)\")\n",
    "plt.ylabel(\"Profit ($10,000\")\n",
    "plt.title(\"Profit vs Population\")\n",
    "\n",
    "x_value=[x for x in range(25)]\n",
    "y_value=[final_theta[0] + y*final_theta[1] for y in x_value]\n",
    "plt.plot(x_value,y_value,color=\"r\")\n",
    "\n",
    "plt.show()"
   ]
  },
  {
   "cell_type": "markdown",
   "metadata": {},
   "source": [
    "## Examples of predictions"
   ]
  },
  {
   "cell_type": "code",
   "execution_count": null,
   "metadata": {},
   "outputs": [],
   "source": [
    "def predict (x, theta):\n",
    "    theta_transpose = theta.transpose()\n",
    "    #print (theta_transpose)\n",
    "    #print (x)\n",
    "    prediction = theta_transpose.dot(x)\n",
    "    return prediction\n",
    "    \n",
    "\n",
    "print (\"final theta is:\\n{}\".format(final_theta))\n",
    "x = np.zeros((2,1))\n",
    "x[0][0] = 1\n",
    "x[1][0] = 3.5\n",
    "print (\"\\nx is:\\n{}\".format(x))\n",
    "\n",
    "    "
   ]
  },
  {
   "cell_type": "code",
   "execution_count": null,
   "metadata": {},
   "outputs": [],
   "source": [
    "prediction = predict(x, final_theta)\n",
    "print(\"For population = 35,000, we predict a profit of $\"+str(prediction[0][0]* 10000))"
   ]
  },
  {
   "cell_type": "code",
   "execution_count": null,
   "metadata": {},
   "outputs": [],
   "source": [
    "prediction2=predict(np.array([1,7]),final_theta)\n",
    "print(\"For population = 70,000, we predict a profit of $\"+ str(prediction2[0]*10000))"
   ]
  },
  {
   "cell_type": "markdown",
   "metadata": {},
   "source": [
    "## Multi variable linear regression"
   ]
  },
  {
   "cell_type": "code",
   "execution_count": null,
   "metadata": {},
   "outputs": [],
   "source": [
    "## Reading in training data\n",
    "data2 = pd.read_csv('ex1data2.txt', header=None)\n",
    "print(data2.head())\n",
    "\n",
    "print(data2.describe())"
   ]
  },
  {
   "cell_type": "markdown",
   "metadata": {},
   "source": [
    "## Create 2 subplot, 1 for each variable"
   ]
  },
  {
   "cell_type": "code",
   "execution_count": null,
   "metadata": {},
   "outputs": [],
   "source": [
    "fig, axes = plt.subplots(figsize=(12,4),nrows=1,ncols=2)\n",
    "axes[0].scatter(data2[0],data2[2],color=\"b\")\n",
    "axes[0].set_xlabel(\"Size (Square Feet)\")\n",
    "axes[0].set_ylabel(\"Prices\")\n",
    "axes[0].set_title(\"House prices against size of house\")\n",
    "\n",
    "axes[1].scatter(data2[1], data2[2], color='r')\n",
    "axes[1].set_xlabel(\"Number of bedroom\")\n",
    "axes[1].set_ylabel(\"Prices\")\n",
    "axes[1].set_xticks(np.arange(1,6,step=1))\n",
    "axes[1].set_title(\"House prices against number of bedroom\")\n",
    "\n",
    "plt.tight_layout()"
   ]
  },
  {
   "cell_type": "markdown",
   "metadata": {},
   "source": [
    "## Feature Normalization"
   ]
  },
  {
   "cell_type": "code",
   "execution_count": null,
   "metadata": {
    "scrolled": true
   },
   "outputs": [],
   "source": [
    "data_n2=data2.values\n",
    "m2=len(data_n2[:,-1])\n",
    "X2=data_n2[:,0:2].reshape(m2,2)\n",
    "print (\"X2 is:\\n{}\".format(X2))\n"
   ]
  },
  {
   "cell_type": "code",
   "execution_count": null,
   "metadata": {},
   "outputs": [],
   "source": [
    "def featureNormalization(X):\n",
    "    \"\"\"\n",
    "    Take in numpy array of X values and return normalize X values,\n",
    "    the mean and standard deviation of each feature\n",
    "    \"\"\"\n",
    "    mean=np.mean(X,axis=0)\n",
    "    print(\"mean is:\\n{}\".format(mean))\n",
    "    std=np.std(X,axis=0)\n",
    "    print(\"std is:\\n{}\".format(std))\n",
    "    X_norm = (X - mean)/std\n",
    "    return X_norm , mean , std\n",
    "\n",
    "X2, mean_X2, std_X2 = featureNormalization(X2)\n"
   ]
  },
  {
   "cell_type": "code",
   "execution_count": null,
   "metadata": {},
   "outputs": [],
   "source": [
    "X2 = np.append(np.ones((m2,1)),X2,axis=1)\n",
    "print(\"X2 is:\\n{}\\n\".format(X2[0:4]))\n",
    "\n",
    "y2=data_n2[:,-1].reshape(m2,1)\n",
    "print(\"y2 is:\\n{}\\n\".format(y2[0:4]))\n",
    "\n",
    "theta2=np.zeros((3,1))\n",
    "print(\"theta2 is:\\n{}\\n\".format(theta2))"
   ]
  },
  {
   "cell_type": "code",
   "execution_count": null,
   "metadata": {},
   "outputs": [],
   "source": [
    "print(computeCost(X2, y2, theta2, m2))\n"
   ]
  },
  {
   "cell_type": "code",
   "execution_count": null,
   "metadata": {},
   "outputs": [],
   "source": [
    "theta2, J_history2 = gradientDescent(X2,y2,theta2,m2, 0.01,400)\n",
    "print(theta2)"
   ]
  },
  {
   "cell_type": "code",
   "execution_count": null,
   "metadata": {},
   "outputs": [],
   "source": [
    "print(\"h(x) =\"+str(round(theta2[0,0],2))+\" + \"+str(round(theta2[1,0],2))+\"x1 + \"+str(round(theta2[2,0],2))+\"x2\")"
   ]
  },
  {
   "cell_type": "code",
   "execution_count": null,
   "metadata": {},
   "outputs": [],
   "source": [
    "plt.plot(J_history2)\n",
    "plt.xlabel(\"Iteration\")\n",
    "plt.ylabel(\"$J(\\Theta)$\")\n",
    "plt.title(\"Cost function using Gradient Descent\")\n",
    "plt.show()"
   ]
  },
  {
   "cell_type": "markdown",
   "metadata": {},
   "source": [
    "## Example"
   ]
  },
  {
   "cell_type": "code",
   "execution_count": null,
   "metadata": {},
   "outputs": [],
   "source": [
    "#feature normalisation of x values\n",
    "x_sample = featureNormalization(np.array([1650,3]))[0]\n",
    "print(\"x_sample is:\\n{}\".format(x_sample))\n",
    "x_sample=np.append(np.ones(1),x_sample)\n",
    "predict3=predict(x_sample,theta2)\n",
    "print(\"For size of house = 1650, Number of bedroom = 3, we predict a house value of ${}\".format(predict3[0]))"
   ]
  },
  {
   "cell_type": "code",
   "execution_count": null,
   "metadata": {},
   "outputs": [],
   "source": []
  }
 ],
 "metadata": {
  "kernelspec": {
   "display_name": "Python 3",
   "language": "python",
   "name": "python3"
  },
  "language_info": {
   "codemirror_mode": {
    "name": "ipython",
    "version": 3
   },
   "file_extension": ".py",
   "mimetype": "text/x-python",
   "name": "python",
   "nbconvert_exporter": "python",
   "pygments_lexer": "ipython3",
   "version": "3.8.0"
  }
 },
 "nbformat": 4,
 "nbformat_minor": 1
}
