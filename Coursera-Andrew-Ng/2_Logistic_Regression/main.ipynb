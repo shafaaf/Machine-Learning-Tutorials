{
 "cells": [
  {
   "cell_type": "markdown",
   "metadata": {},
   "source": [
    "# Logistic regression"
   ]
  },
  {
   "cell_type": "code",
   "execution_count": 6,
   "metadata": {},
   "outputs": [],
   "source": [
    "import numpy as np\n",
    "import matplotlib.pyplot as plt\n",
    "import pandas as pd\n",
    "\n",
    "df = pd.read_csv(\"ex2data1.txt\",header=None)"
   ]
  },
  {
   "cell_type": "code",
   "execution_count": 7,
   "metadata": {},
   "outputs": [
    {
     "data": {
      "text/html": [
       "<div>\n",
       "<style scoped>\n",
       "    .dataframe tbody tr th:only-of-type {\n",
       "        vertical-align: middle;\n",
       "    }\n",
       "\n",
       "    .dataframe tbody tr th {\n",
       "        vertical-align: top;\n",
       "    }\n",
       "\n",
       "    .dataframe thead th {\n",
       "        text-align: right;\n",
       "    }\n",
       "</style>\n",
       "<table border=\"1\" class=\"dataframe\">\n",
       "  <thead>\n",
       "    <tr style=\"text-align: right;\">\n",
       "      <th></th>\n",
       "      <th>0</th>\n",
       "      <th>1</th>\n",
       "      <th>2</th>\n",
       "    </tr>\n",
       "  </thead>\n",
       "  <tbody>\n",
       "    <tr>\n",
       "      <th>0</th>\n",
       "      <td>34.623660</td>\n",
       "      <td>78.024693</td>\n",
       "      <td>0</td>\n",
       "    </tr>\n",
       "    <tr>\n",
       "      <th>1</th>\n",
       "      <td>30.286711</td>\n",
       "      <td>43.894998</td>\n",
       "      <td>0</td>\n",
       "    </tr>\n",
       "    <tr>\n",
       "      <th>2</th>\n",
       "      <td>35.847409</td>\n",
       "      <td>72.902198</td>\n",
       "      <td>0</td>\n",
       "    </tr>\n",
       "    <tr>\n",
       "      <th>3</th>\n",
       "      <td>60.182599</td>\n",
       "      <td>86.308552</td>\n",
       "      <td>1</td>\n",
       "    </tr>\n",
       "    <tr>\n",
       "      <th>4</th>\n",
       "      <td>79.032736</td>\n",
       "      <td>75.344376</td>\n",
       "      <td>1</td>\n",
       "    </tr>\n",
       "  </tbody>\n",
       "</table>\n",
       "</div>"
      ],
      "text/plain": [
       "           0          1  2\n",
       "0  34.623660  78.024693  0\n",
       "1  30.286711  43.894998  0\n",
       "2  35.847409  72.902198  0\n",
       "3  60.182599  86.308552  1\n",
       "4  79.032736  75.344376  1"
      ]
     },
     "execution_count": 7,
     "metadata": {},
     "output_type": "execute_result"
    }
   ],
   "source": [
    "df.head()"
   ]
  },
  {
   "cell_type": "code",
   "execution_count": 8,
   "metadata": {},
   "outputs": [
    {
     "data": {
      "text/html": [
       "<div>\n",
       "<style scoped>\n",
       "    .dataframe tbody tr th:only-of-type {\n",
       "        vertical-align: middle;\n",
       "    }\n",
       "\n",
       "    .dataframe tbody tr th {\n",
       "        vertical-align: top;\n",
       "    }\n",
       "\n",
       "    .dataframe thead th {\n",
       "        text-align: right;\n",
       "    }\n",
       "</style>\n",
       "<table border=\"1\" class=\"dataframe\">\n",
       "  <thead>\n",
       "    <tr style=\"text-align: right;\">\n",
       "      <th></th>\n",
       "      <th>0</th>\n",
       "      <th>1</th>\n",
       "      <th>2</th>\n",
       "    </tr>\n",
       "  </thead>\n",
       "  <tbody>\n",
       "    <tr>\n",
       "      <th>count</th>\n",
       "      <td>100.000000</td>\n",
       "      <td>100.000000</td>\n",
       "      <td>100.000000</td>\n",
       "    </tr>\n",
       "    <tr>\n",
       "      <th>mean</th>\n",
       "      <td>65.644274</td>\n",
       "      <td>66.221998</td>\n",
       "      <td>0.600000</td>\n",
       "    </tr>\n",
       "    <tr>\n",
       "      <th>std</th>\n",
       "      <td>19.458222</td>\n",
       "      <td>18.582783</td>\n",
       "      <td>0.492366</td>\n",
       "    </tr>\n",
       "    <tr>\n",
       "      <th>min</th>\n",
       "      <td>30.058822</td>\n",
       "      <td>30.603263</td>\n",
       "      <td>0.000000</td>\n",
       "    </tr>\n",
       "    <tr>\n",
       "      <th>25%</th>\n",
       "      <td>50.919511</td>\n",
       "      <td>48.179205</td>\n",
       "      <td>0.000000</td>\n",
       "    </tr>\n",
       "    <tr>\n",
       "      <th>50%</th>\n",
       "      <td>67.032988</td>\n",
       "      <td>67.682381</td>\n",
       "      <td>1.000000</td>\n",
       "    </tr>\n",
       "    <tr>\n",
       "      <th>75%</th>\n",
       "      <td>80.212529</td>\n",
       "      <td>79.360605</td>\n",
       "      <td>1.000000</td>\n",
       "    </tr>\n",
       "    <tr>\n",
       "      <th>max</th>\n",
       "      <td>99.827858</td>\n",
       "      <td>98.869436</td>\n",
       "      <td>1.000000</td>\n",
       "    </tr>\n",
       "  </tbody>\n",
       "</table>\n",
       "</div>"
      ],
      "text/plain": [
       "                0           1           2\n",
       "count  100.000000  100.000000  100.000000\n",
       "mean    65.644274   66.221998    0.600000\n",
       "std     19.458222   18.582783    0.492366\n",
       "min     30.058822   30.603263    0.000000\n",
       "25%     50.919511   48.179205    0.000000\n",
       "50%     67.032988   67.682381    1.000000\n",
       "75%     80.212529   79.360605    1.000000\n",
       "max     99.827858   98.869436    1.000000"
      ]
     },
     "execution_count": 8,
     "metadata": {},
     "output_type": "execute_result"
    }
   ],
   "source": [
    "df.describe()"
   ]
  },
  {
   "cell_type": "markdown",
   "metadata": {},
   "source": [
    "## Plotting input"
   ]
  },
  {
   "cell_type": "code",
   "execution_count": 12,
   "metadata": {},
   "outputs": [
    {
     "data": {
      "text/plain": [
       "<matplotlib.legend.Legend at 0x117a98eb8>"
      ]
     },
     "execution_count": 12,
     "metadata": {},
     "output_type": "execute_result"
    },
    {
     "data": {
      "image/png": "[encoded data removed]",
      "text/plain": [
       "<Figure size 432x288 with 1 Axes>"
      ]
     },
     "metadata": {
      "needs_background": "light"
     },
     "output_type": "display_data"
    }
   ],
   "source": [
    "X=df.iloc[:,:-1].values\n",
    "y=df.iloc[:,-1].values\n",
    "\n",
    "pos , neg = (y==1).reshape(100,1) , (y==0).reshape(100,1)\n",
    "plt.scatter(X[pos[:,0],0],X[pos[:,0],1],c=\"r\",marker=\"+\")\n",
    "plt.scatter(X[neg[:,0],0],X[neg[:,0],1],marker=\"o\",s=10)\n",
    "plt.xlabel(\"Exam 1 score\")\n",
    "plt.ylabel(\"Exam 2 score\")\n",
    "plt.legend([\"Admitted\",\"Not admitted\"],loc=0)"
   ]
  },
  {
   "cell_type": "code",
   "execution_count": 14,
   "metadata": {},
   "outputs": [
    {
     "name": "stdout",
     "output_type": "stream",
     "text": [
      "sigmoid(0) is: 0.5\n"
     ]
    }
   ],
   "source": [
    "def sigmoid(z):\n",
    "    return 1/ (1 + np.exp(-z))\n",
    "print(\"sigmoid(0) is: {}\".format(sigmoid(0)))"
   ]
  },
  {
   "cell_type": "code",
   "execution_count": null,
   "metadata": {},
   "outputs": [],
   "source": [
    "def costFunction(theta, X, y):\n",
    "    # TODO"
   ]
  },
  {
   "cell_type": "code",
   "execution_count": 16,
   "metadata": {},
   "outputs": [],
   "source": [
    "def featureNormalization(X):\n",
    "    \"\"\"\n",
    "    Take in numpy array of X values and return normalize X values,\n",
    "    the mean and standard deviation of each feature\n",
    "    \"\"\"\n",
    "    mean=np.mean(X,axis=0)\n",
    "    std=np.std(X,axis=0)\n",
    "    \n",
    "    X_norm = (X - mean)/std\n",
    "    \n",
    "    return X_norm , mean , std"
   ]
  },
  {
   "cell_type": "code",
   "execution_count": 21,
   "metadata": {},
   "outputs": [
    {
     "name": "stdout",
     "output_type": "stream",
     "text": [
      "x is:\n",
      "[[ 1.                 nan         nan         nan -1.60224763  0.63834112]\n",
      " [ 1.                 nan         nan         nan -1.82625564 -1.2075414 ]\n",
      " [ 1.                 nan         nan         nan -1.53903969  0.3612943 ]\n",
      " [ 1.                 nan         nan         nan -0.28210129  1.0863683 ]\n",
      " [ 1.                 nan         nan         nan  0.69152826  0.49337794]\n",
      " [ 1.                 nan         nan         nan -1.06199728 -0.5357394 ]\n",
      " [ 1.                 nan         nan         nan -0.23437234  1.63818413]\n",
      " [ 1.                 nan         nan         nan  0.4845113  -1.06373024]\n",
      " [ 1.                 nan         nan         nan  0.53998666  1.14651105]\n",
      " [ 1.                 nan         nan         nan  0.97044832 -1.22709853]\n",
      " [ 1.                 nan         nan         nan  1.56075461 -1.51418452]\n",
      " [ 1.                 nan         nan         nan  0.48393864 -1.92641626]\n",
      " [ 1.                 nan         nan         nan  0.86065022  0.55490359]\n",
      " [ 1.                 nan         nan         nan  0.1921582   1.70347834]\n",
      " [ 1.                 nan         nan         nan -1.34839922  0.53082781]\n",
      " [ 1.                 nan         nan         nan -0.60293429  1.24314792]\n",
      " [ 1.                 nan         nan         nan  0.17694982 -0.72913975]\n",
      " [ 1.                 nan         nan         nan  0.11893077 -1.05699346]\n",
      " [ 1.                 nan         nan         nan  0.25914553  1.44433023]\n",
      " [ 1.                 nan         nan         nan  0.58543944 -1.00845873]\n",
      " [ 1.                 nan         nan         nan  0.0892403  -1.26468472]\n",
      " [ 1.                 nan         nan         nan  1.2413042  -0.02285779]\n",
      " [ 1.                 nan         nan         nan -0.78042096 -0.93923898]\n",
      " [ 1.                 nan         nan         nan -1.62350714 -1.19053019]\n",
      " [ 1.                 nan         nan         nan  0.63426559  0.14875155]\n",
      " [ 1.                 nan         nan         nan -0.17423248  0.20186768]\n",
      " [ 1.                 nan         nan         nan  0.75131151 -1.15742514]\n",
      " [ 1.                 nan         nan         nan  1.41886056 -1.4830648 ]\n",
      " [ 1.                 nan         nan         nan -0.19700066 -0.86350486]\n",
      " [ 1.                 nan         nan         nan -1.38726847 -0.06632457]\n",
      " [ 1.                 nan         nan         nan -0.22029098  0.35619356]\n",
      " [ 1.                 nan         nan         nan  1.02063763 -0.49595429]\n",
      " [ 1.                 nan         nan         nan -0.69916396 -0.16735724]\n",
      " [ 1.                 nan         nan         nan -0.70239602  0.1736574 ]\n",
      " [ 1.                 nan         nan         nan -1.31231814  0.26748769]\n",
      " [ 1.                 nan         nan         nan -0.56863523 -0.7576197 ]\n",
      " [ 1.                 nan         nan         nan -1.63882482  1.76571557]\n",
      " [ 1.                 nan         nan         nan -0.07578684  0.7942862 ]\n",
      " [ 1.                 nan         nan         nan  0.47234786 -1.33310268]\n",
      " [ 1.                 nan         nan         nan -1.62497511  0.48760951]\n",
      " [ 1.                 nan         nan         nan  0.94305124 -0.53618968]\n",
      " [ 1.                 nan         nan         nan -0.72810195 -1.0473818 ]\n",
      " [ 1.                 nan         nan         nan  1.48750373 -0.03532122]\n",
      " [ 1.                 nan         nan         nan  0.86383711 -1.38476189]\n",
      " [ 1.                 nan         nan         nan -0.75392586 -1.10328278]\n",
      " [ 1.                 nan         nan         nan -0.17672918 -0.76588887]\n",
      " [ 1.                 nan         nan         nan  0.59650575  0.22911224]\n",
      " [ 1.                 nan         nan         nan  1.65941042  1.10904426]\n",
      " [ 1.                 nan         nan         nan -0.1844568   1.65210535]\n",
      " [ 1.                 nan         nan         nan  1.33883167  1.2155077 ]\n",
      " [ 1.                 nan         nan         nan  0.73863826  0.42949041]\n",
      " [ 1.                 nan         nan         nan  1.73693492 -0.2824808 ]\n",
      " [ 1.                 nan         nan         nan  1.28623744 -1.23482132]\n",
      " [ 1.                 nan         nan         nan -1.60736862 -0.31507682]\n",
      " [ 1.                 nan         nan         nan -0.79324552 -0.88792768]\n",
      " [ 1.                 nan         nan         nan -0.82939191 -0.34684551]\n",
      " [ 1.                 nan         nan         nan  1.65290418  0.14275969]\n",
      " [ 1.                 nan         nan         nan -1.70794943  1.5888117 ]\n",
      " [ 1.                 nan         nan         nan  0.44442728  0.19484284]\n",
      " [ 1.                 nan         nan         nan  0.31776703  0.66153625]\n",
      " [ 1.                 nan         nan         nan  0.50366692  1.05669679]\n",
      " [ 1.                 nan         nan         nan -1.56803122 -1.03849986]\n",
      " [ 1.                 nan         nan         nan -0.48502704 -1.45814261]\n",
      " [ 1.                 nan         nan         nan -1.83802631 -0.89937003]\n",
      " [ 1.                 nan         nan         nan -1.08343328  0.012336  ]\n",
      " [ 1.                 nan         nan         nan  0.04734442 -1.35913441]\n",
      " [ 1.                 nan         nan         nan -1.30092096  1.69355351]\n",
      " [ 1.                 nan         nan         nan -0.85594644 -0.77550399]\n",
      " [ 1.                 nan         nan         nan  0.75592876  1.40046365]\n",
      " [ 1.                 nan         nan         nan  0.05694243 -0.28289384]\n",
      " [ 1.                 nan         nan         nan -1.70042734 -1.23933351]\n",
      " [ 1.                 nan         nan         nan -0.08289756  0.63871945]\n",
      " [ 1.                 nan         nan         nan  0.34617678  1.62283321]\n",
      " [ 1.                 nan         nan         nan -0.26788246  0.37172177]\n",
      " [ 1.                 nan         nan         nan -0.35139858  0.52118118]\n",
      " [ 1.                 nan         nan         nan  1.76561835  0.33247025]\n",
      " [ 1.                 nan         nan         nan -0.94934675  1.20358601]\n",
      " [ 1.                 nan         nan         nan -0.78437891  0.51855329]\n",
      " [ 1.                 nan         nan         nan -0.26800277 -1.28253412]\n",
      " [ 1.                 nan         nan         nan  0.8564979  -1.27109695]\n",
      " [ 1.                 nan         nan         nan  1.20190067  0.19371884]\n",
      " [ 1.                 nan         nan         nan  1.50770647 -1.11022692]\n",
      " [ 1.                 nan         nan         nan  0.08651467  0.01986816]\n",
      " [ 1.                 nan         nan         nan -0.43415649 -0.36278249]\n",
      " [ 1.                 nan         nan         nan  0.76043181  1.33794685]\n",
      " [ 1.                 nan         nan         nan  0.14587539  1.04773882]\n",
      " [ 1.                 nan         nan         nan -1.21735452  0.68269533]\n",
      " [ 1.                 nan         nan         nan  0.50790698  1.30897879]\n",
      " [ 1.                 nan         nan         nan  0.67100669  1.64553968]\n",
      " [ 1.                 nan         nan         nan -0.68676645 -0.29489455]\n",
      " [ 1.                 nan         nan         nan  1.46947562  0.59152637]\n",
      " [ 1.                 nan         nan         nan  1.28116721  1.15128248]\n",
      " [ 1.                 nan         nan         nan -0.52488391 -1.65775547]\n",
      " [ 1.                 nan         nan         nan  0.45703019  1.00722043]\n",
      " [ 1.                 nan         nan         nan  1.25003483 -1.12840052]\n",
      " [ 1.                 nan         nan         nan  0.92170742 -0.96495748]\n",
      " [ 1.                 nan         nan         nan -1.2077347   1.12938152]\n",
      " [ 1.                 nan         nan         nan  1.73912916  0.13809961]\n",
      " [ 1.                 nan         nan         nan -0.53222578 -0.06977207]\n",
      " [ 1.                 nan         nan         nan  0.4716578   1.26058811]]\n"
     ]
    },
    {
     "name": "stderr",
     "output_type": "stream",
     "text": [
      "/usr/local/lib/python3.7/site-packages/ipykernel_launcher.py:9: RuntimeWarning: invalid value encountered in true_divide\n",
      "  if __name__ == '__main__':\n"
     ]
    }
   ],
   "source": [
    "m , n = X.shape[0], X.shape[1]\n",
    "X, X_mean, X_std = featureNormalization(X)\n",
    "X = np.append(np.ones((m,1)),X,axis=1)\n",
    "y = y.reshape(m,1)\n",
    "initial_theta = np.zeros((n+1,1))\n",
    "\n",
    "print(\"x is:\\n{}\".format(X))"
   ]
  },
  {
   "cell_type": "code",
   "execution_count": null,
   "metadata": {},
   "outputs": [],
   "source": []
  }
 ],
 "metadata": {
  "kernelspec": {
   "display_name": "Python 3",
   "language": "python",
   "name": "python3"
  },
  "language_info": {
   "codemirror_mode": {
    "name": "ipython",
    "version": 3
   },
   "file_extension": ".py",
   "mimetype": "text/x-python",
   "name": "python",
   "nbconvert_exporter": "python",
   "pygments_lexer": "ipython3",
   "version": "3.7.1"
  }
 },
 "nbformat": 4,
 "nbformat_minor": 2
}
